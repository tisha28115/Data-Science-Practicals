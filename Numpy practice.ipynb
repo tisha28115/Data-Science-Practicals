{
 "cells": [
  {
   "cell_type": "code",
   "execution_count": 1,
   "id": "31456973-6d67-40d2-b23e-02a611340756",
   "metadata": {},
   "outputs": [],
   "source": [
    "import numpy"
   ]
  },
  {
   "cell_type": "code",
   "execution_count": 2,
   "id": "353aa2b0-19d5-4bb5-bd1f-d29920a5801e",
   "metadata": {},
   "outputs": [],
   "source": [
    "import numpy as np"
   ]
  },
  {
   "cell_type": "code",
   "execution_count": 3,
   "id": "eaa9ee43-d38c-445e-bde0-404083455b37",
   "metadata": {},
   "outputs": [
    {
     "data": {
      "text/plain": [
       "'1.26.4'"
      ]
     },
     "execution_count": 3,
     "metadata": {},
     "output_type": "execute_result"
    }
   ],
   "source": [
    "np.__version__"
   ]
  },
  {
   "cell_type": "code",
   "execution_count": 4,
   "id": "e2e118e9-b3bf-4e59-aee7-61af93b4face",
   "metadata": {},
   "outputs": [
    {
     "data": {
      "text/plain": [
       "array([ 0,  1,  2,  3,  4,  5,  6,  7,  8,  9, 10, 11, 12, 13, 14, 15, 16,\n",
       "       17, 18, 19, 20, 21, 22, 23, 24, 25, 26, 27, 28, 29, 30, 31, 32, 33,\n",
       "       34, 35, 36, 37, 38, 39, 40, 41, 42, 43, 44, 45, 46, 47, 48, 49, 50,\n",
       "       51, 52, 53, 54, 55, 56, 57, 58, 59, 60, 61, 62, 63, 64, 65, 66, 67,\n",
       "       68, 69, 70, 71, 72, 73, 74, 75, 76, 77, 78, 79, 80, 81, 82, 83, 84,\n",
       "       85, 86, 87, 88, 89, 90, 91, 92, 93, 94, 95, 96, 97, 98, 99])"
      ]
     },
     "execution_count": 4,
     "metadata": {},
     "output_type": "execute_result"
    }
   ],
   "source": [
    "np.arange(0,100)"
   ]
  },
  {
   "cell_type": "code",
   "execution_count": 5,
   "id": "8c49cc36-64a5-4afd-9f90-85e8571ab73e",
   "metadata": {},
   "outputs": [
    {
     "data": {
      "text/plain": [
       "\u001b[1;31mDocstring:\u001b[0m\n",
       "zeros(shape, dtype=float, order='C', *, like=None)\n",
       "\n",
       "Return a new array of given shape and type, filled with zeros.\n",
       "\n",
       "Parameters\n",
       "----------\n",
       "shape : int or tuple of ints\n",
       "    Shape of the new array, e.g., ``(2, 3)`` or ``2``.\n",
       "dtype : data-type, optional\n",
       "    The desired data-type for the array, e.g., `numpy.int8`.  Default is\n",
       "    `numpy.float64`.\n",
       "order : {'C', 'F'}, optional, default: 'C'\n",
       "    Whether to store multi-dimensional data in row-major\n",
       "    (C-style) or column-major (Fortran-style) order in\n",
       "    memory.\n",
       "like : array_like, optional\n",
       "    Reference object to allow the creation of arrays which are not\n",
       "    NumPy arrays. If an array-like passed in as ``like`` supports\n",
       "    the ``__array_function__`` protocol, the result will be defined\n",
       "    by it. In this case, it ensures the creation of an array object\n",
       "    compatible with that passed in via this argument.\n",
       "\n",
       "    .. versionadded:: 1.20.0\n",
       "\n",
       "Returns\n",
       "-------\n",
       "out : ndarray\n",
       "    Array of zeros with the given shape, dtype, and order.\n",
       "\n",
       "See Also\n",
       "--------\n",
       "zeros_like : Return an array of zeros with shape and type of input.\n",
       "empty : Return a new uninitialized array.\n",
       "ones : Return a new array setting values to one.\n",
       "full : Return a new array of given shape filled with value.\n",
       "\n",
       "Examples\n",
       "--------\n",
       ">>> np.zeros(5)\n",
       "array([ 0.,  0.,  0.,  0.,  0.])\n",
       "\n",
       ">>> np.zeros((5,), dtype=int)\n",
       "array([0, 0, 0, 0, 0])\n",
       "\n",
       ">>> np.zeros((2, 1))\n",
       "array([[ 0.],\n",
       "       [ 0.]])\n",
       "\n",
       ">>> s = (2,2)\n",
       ">>> np.zeros(s)\n",
       "array([[ 0.,  0.],\n",
       "       [ 0.,  0.]])\n",
       "\n",
       ">>> np.zeros((2,), dtype=[('x', 'i4'), ('y', 'i4')]) # custom dtype\n",
       "array([(0, 0), (0, 0)],\n",
       "      dtype=[('x', '<i4'), ('y', '<i4')])\n",
       "\u001b[1;31mType:\u001b[0m      builtin_function_or_method"
      ]
     },
     "metadata": {},
     "output_type": "display_data"
    }
   ],
   "source": [
    "np.zeros?"
   ]
  },
  {
   "cell_type": "code",
   "execution_count": 6,
   "id": "b5310755-ed23-40d0-a3e4-2356bea8784f",
   "metadata": {},
   "outputs": [
    {
     "name": "stdout",
     "output_type": "stream",
     "text": [
      "Help on built-in function len in module builtins:\n",
      "\n",
      "len(obj, /)\n",
      "    Return the number of items in a container.\n",
      "\n"
     ]
    }
   ],
   "source": [
    "help(len)"
   ]
  },
  {
   "cell_type": "code",
   "execution_count": 7,
   "id": "f8b9adfd-e752-486c-be8b-cc5ccfe3f356",
   "metadata": {},
   "outputs": [
    {
     "name": "stdout",
     "output_type": "stream",
     "text": [
      "Help on built-in function zeros in module numpy:\n",
      "\n",
      "zeros(...)\n",
      "    zeros(shape, dtype=float, order='C', *, like=None)\n",
      "    \n",
      "    Return a new array of given shape and type, filled with zeros.\n",
      "    \n",
      "    Parameters\n",
      "    ----------\n",
      "    shape : int or tuple of ints\n",
      "        Shape of the new array, e.g., ``(2, 3)`` or ``2``.\n",
      "    dtype : data-type, optional\n",
      "        The desired data-type for the array, e.g., `numpy.int8`.  Default is\n",
      "        `numpy.float64`.\n",
      "    order : {'C', 'F'}, optional, default: 'C'\n",
      "        Whether to store multi-dimensional data in row-major\n",
      "        (C-style) or column-major (Fortran-style) order in\n",
      "        memory.\n",
      "    like : array_like, optional\n",
      "        Reference object to allow the creation of arrays which are not\n",
      "        NumPy arrays. If an array-like passed in as ``like`` supports\n",
      "        the ``__array_function__`` protocol, the result will be defined\n",
      "        by it. In this case, it ensures the creation of an array object\n",
      "        compatible with that passed in via this argument.\n",
      "    \n",
      "        .. versionadded:: 1.20.0\n",
      "    \n",
      "    Returns\n",
      "    -------\n",
      "    out : ndarray\n",
      "        Array of zeros with the given shape, dtype, and order.\n",
      "    \n",
      "    See Also\n",
      "    --------\n",
      "    zeros_like : Return an array of zeros with shape and type of input.\n",
      "    empty : Return a new uninitialized array.\n",
      "    ones : Return a new array setting values to one.\n",
      "    full : Return a new array of given shape filled with value.\n",
      "    \n",
      "    Examples\n",
      "    --------\n",
      "    >>> np.zeros(5)\n",
      "    array([ 0.,  0.,  0.,  0.,  0.])\n",
      "    \n",
      "    >>> np.zeros((5,), dtype=int)\n",
      "    array([0, 0, 0, 0, 0])\n",
      "    \n",
      "    >>> np.zeros((2, 1))\n",
      "    array([[ 0.],\n",
      "           [ 0.]])\n",
      "    \n",
      "    >>> s = (2,2)\n",
      "    >>> np.zeros(s)\n",
      "    array([[ 0.,  0.],\n",
      "           [ 0.,  0.]])\n",
      "    \n",
      "    >>> np.zeros((2,), dtype=[('x', 'i4'), ('y', 'i4')]) # custom dtype\n",
      "    array([(0, 0), (0, 0)],\n",
      "          dtype=[('x', '<i4'), ('y', '<i4')])\n",
      "\n"
     ]
    }
   ],
   "source": [
    "help(np.zeros)"
   ]
  },
  {
   "cell_type": "code",
   "execution_count": 8,
   "id": "26fef32f-3b01-4643-b20a-a1ed51872609",
   "metadata": {},
   "outputs": [],
   "source": [
    "arr=np.arange(0,100)"
   ]
  },
  {
   "cell_type": "code",
   "execution_count": 9,
   "id": "0c4e1235-2894-48fc-a60c-eb6ed72c6229",
   "metadata": {},
   "outputs": [
    {
     "data": {
      "text/plain": [
       "array([ 0,  1,  2,  3,  4,  5,  6,  7,  8,  9, 10, 11, 12, 13, 14, 15, 16,\n",
       "       17, 18, 19, 20, 21, 22, 23, 24, 25, 26, 27, 28, 29, 30, 31, 32, 33,\n",
       "       34, 35, 36, 37, 38, 39, 40, 41, 42, 43, 44, 45, 46, 47, 48, 49, 50,\n",
       "       51, 52, 53, 54, 55, 56, 57, 58, 59, 60, 61, 62, 63, 64, 65, 66, 67,\n",
       "       68, 69, 70, 71, 72, 73, 74, 75, 76, 77, 78, 79, 80, 81, 82, 83, 84,\n",
       "       85, 86, 87, 88, 89, 90, 91, 92, 93, 94, 95, 96, 97, 98, 99])"
      ]
     },
     "execution_count": 9,
     "metadata": {},
     "output_type": "execute_result"
    }
   ],
   "source": [
    "arr"
   ]
  },
  {
   "cell_type": "code",
   "execution_count": 10,
   "id": "f5d99203-edeb-4ba8-85e6-2702a937b0d7",
   "metadata": {},
   "outputs": [
    {
     "data": {
      "text/plain": [
       "array([ 0,  2,  4,  6,  8, 10, 12, 14, 16, 18, 20, 22, 24, 26, 28, 30, 32,\n",
       "       34, 36, 38, 40, 42, 44, 46, 48, 50, 52, 54, 56, 58, 60, 62, 64, 66,\n",
       "       68, 70, 72, 74, 76, 78, 80, 82, 84, 86, 88, 90, 92, 94, 96, 98])"
      ]
     },
     "execution_count": 10,
     "metadata": {},
     "output_type": "execute_result"
    }
   ],
   "source": [
    "np.arange(0,100,2)"
   ]
  },
  {
   "cell_type": "code",
   "execution_count": 11,
   "id": "5f5af925-562e-4e4c-bcdb-ad001cdb413f",
   "metadata": {},
   "outputs": [
    {
     "data": {
      "text/plain": [
       "\u001b[1;31mDocstring:\u001b[0m\n",
       "arange([start,] stop[, step,], dtype=None, *, like=None)\n",
       "\n",
       "Return evenly spaced values within a given interval.\n",
       "\n",
       "``arange`` can be called with a varying number of positional arguments:\n",
       "\n",
       "* ``arange(stop)``: Values are generated within the half-open interval\n",
       "  ``[0, stop)`` (in other words, the interval including `start` but\n",
       "  excluding `stop`).\n",
       "* ``arange(start, stop)``: Values are generated within the half-open\n",
       "  interval ``[start, stop)``.\n",
       "* ``arange(start, stop, step)`` Values are generated within the half-open\n",
       "  interval ``[start, stop)``, with spacing between values given by\n",
       "  ``step``.\n",
       "\n",
       "For integer arguments the function is roughly equivalent to the Python\n",
       "built-in :py:class:`range`, but returns an ndarray rather than a ``range``\n",
       "instance.\n",
       "\n",
       "When using a non-integer step, such as 0.1, it is often better to use\n",
       "`numpy.linspace`.\n",
       "\n",
       "See the Warning sections below for more information.\n",
       "\n",
       "Parameters\n",
       "----------\n",
       "start : integer or real, optional\n",
       "    Start of interval.  The interval includes this value.  The default\n",
       "    start value is 0.\n",
       "stop : integer or real\n",
       "    End of interval.  The interval does not include this value, except\n",
       "    in some cases where `step` is not an integer and floating point\n",
       "    round-off affects the length of `out`.\n",
       "step : integer or real, optional\n",
       "    Spacing between values.  For any output `out`, this is the distance\n",
       "    between two adjacent values, ``out[i+1] - out[i]``.  The default\n",
       "    step size is 1.  If `step` is specified as a position argument,\n",
       "    `start` must also be given.\n",
       "dtype : dtype, optional\n",
       "    The type of the output array.  If `dtype` is not given, infer the data\n",
       "    type from the other input arguments.\n",
       "like : array_like, optional\n",
       "    Reference object to allow the creation of arrays which are not\n",
       "    NumPy arrays. If an array-like passed in as ``like`` supports\n",
       "    the ``__array_function__`` protocol, the result will be defined\n",
       "    by it. In this case, it ensures the creation of an array object\n",
       "    compatible with that passed in via this argument.\n",
       "\n",
       "    .. versionadded:: 1.20.0\n",
       "\n",
       "Returns\n",
       "-------\n",
       "arange : ndarray\n",
       "    Array of evenly spaced values.\n",
       "\n",
       "    For floating point arguments, the length of the result is\n",
       "    ``ceil((stop - start)/step)``.  Because of floating point overflow,\n",
       "    this rule may result in the last element of `out` being greater\n",
       "    than `stop`.\n",
       "\n",
       "Warnings\n",
       "--------\n",
       "The length of the output might not be numerically stable.\n",
       "\n",
       "Another stability issue is due to the internal implementation of\n",
       "`numpy.arange`.\n",
       "The actual step value used to populate the array is\n",
       "``dtype(start + step) - dtype(start)`` and not `step`. Precision loss\n",
       "can occur here, due to casting or due to using floating points when\n",
       "`start` is much larger than `step`. This can lead to unexpected\n",
       "behaviour. For example::\n",
       "\n",
       "  >>> np.arange(0, 5, 0.5, dtype=int)\n",
       "  array([0, 0, 0, 0, 0, 0, 0, 0, 0, 0])\n",
       "  >>> np.arange(-3, 3, 0.5, dtype=int)\n",
       "  array([-3, -2, -1,  0,  1,  2,  3,  4,  5,  6,  7,  8])\n",
       "\n",
       "In such cases, the use of `numpy.linspace` should be preferred.\n",
       "\n",
       "The built-in :py:class:`range` generates :std:doc:`Python built-in integers\n",
       "that have arbitrary size <python:c-api/long>`, while `numpy.arange`\n",
       "produces `numpy.int32` or `numpy.int64` numbers. This may result in\n",
       "incorrect results for large integer values::\n",
       "\n",
       "  >>> power = 40\n",
       "  >>> modulo = 10000\n",
       "  >>> x1 = [(n ** power) % modulo for n in range(8)]\n",
       "  >>> x2 = [(n ** power) % modulo for n in np.arange(8)]\n",
       "  >>> print(x1)\n",
       "  [0, 1, 7776, 8801, 6176, 625, 6576, 4001]  # correct\n",
       "  >>> print(x2)\n",
       "  [0, 1, 7776, 7185, 0, 5969, 4816, 3361]  # incorrect\n",
       "\n",
       "See Also\n",
       "--------\n",
       "numpy.linspace : Evenly spaced numbers with careful handling of endpoints.\n",
       "numpy.ogrid: Arrays of evenly spaced numbers in N-dimensions.\n",
       "numpy.mgrid: Grid-shaped arrays of evenly spaced numbers in N-dimensions.\n",
       ":ref:`how-to-partition`\n",
       "\n",
       "Examples\n",
       "--------\n",
       ">>> np.arange(3)\n",
       "array([0, 1, 2])\n",
       ">>> np.arange(3.0)\n",
       "array([ 0.,  1.,  2.])\n",
       ">>> np.arange(3,7)\n",
       "array([3, 4, 5, 6])\n",
       ">>> np.arange(3,7,2)\n",
       "array([3, 5])\n",
       "\u001b[1;31mType:\u001b[0m      builtin_function_or_method"
      ]
     },
     "metadata": {},
     "output_type": "display_data"
    }
   ],
   "source": [
    "np.arange?"
   ]
  },
  {
   "cell_type": "code",
   "execution_count": 12,
   "id": "56d93836-42b3-4e76-adf4-9dd935066d41",
   "metadata": {},
   "outputs": [
    {
     "data": {
      "text/plain": [
       "array([ 0,  4,  8, 12, 16, 20, 24, 28, 32, 36, 40, 44, 48, 52, 56, 60, 64,\n",
       "       68, 72, 76, 80, 84, 88, 92, 96])"
      ]
     },
     "execution_count": 12,
     "metadata": {},
     "output_type": "execute_result"
    }
   ],
   "source": [
    "np.arange(0,100,4)"
   ]
  },
  {
   "cell_type": "code",
   "execution_count": 13,
   "id": "0fe10590-857b-4971-a1cf-e81ed88823c3",
   "metadata": {},
   "outputs": [
    {
     "data": {
      "text/plain": [
       "array([-78, -77, -76, -75, -74, -73, -72, -71, -70, -69, -68, -67, -66,\n",
       "       -65, -64, -63, -62, -61, -60, -59, -58, -57, -56, -55, -54, -53,\n",
       "       -52, -51, -50, -49, -48, -47, -46, -45, -44, -43, -42, -41, -40,\n",
       "       -39, -38, -37, -36, -35, -34, -33, -32, -31, -30, -29, -28, -27,\n",
       "       -26, -25, -24, -23, -22, -21, -20, -19, -18, -17, -16, -15, -14,\n",
       "       -13, -12, -11, -10,  -9,  -8,  -7,  -6,  -5,  -4,  -3,  -2,  -1,\n",
       "         0,   1,   2,   3,   4,   5,   6,   7,   8,   9,  10,  11,  12,\n",
       "        13,  14,  15,  16,  17,  18,  19,  20,  21,  22,  23,  24,  25,\n",
       "        26,  27,  28,  29,  30,  31,  32,  33,  34,  35,  36,  37,  38,\n",
       "        39,  40,  41,  42,  43,  44,  45,  46,  47,  48,  49,  50,  51,\n",
       "        52,  53,  54,  55,  56,  57,  58,  59,  60,  61,  62,  63,  64,\n",
       "        65,  66,  67,  68,  69,  70,  71,  72,  73,  74,  75,  76,  77])"
      ]
     },
     "execution_count": 13,
     "metadata": {},
     "output_type": "execute_result"
    }
   ],
   "source": [
    "np.arange(-78,78)"
   ]
  },
  {
   "cell_type": "code",
   "execution_count": 16,
   "id": "f42fe52f-2ff1-48b6-88e6-241bfbe94d31",
   "metadata": {},
   "outputs": [
    {
     "data": {
      "text/plain": [
       "array([[0, 1, 2],\n",
       "       [3, 4, 5],\n",
       "       [6, 7, 8]])"
      ]
     },
     "execution_count": 16,
     "metadata": {},
     "output_type": "execute_result"
    }
   ],
   "source": [
    "np.arange(0,9).reshape(3,3)"
   ]
  },
  {
   "cell_type": "code",
   "execution_count": 17,
   "id": "784ba330-e2d9-4bd8-824b-03a4128c7cf9",
   "metadata": {},
   "outputs": [
    {
     "data": {
      "text/plain": [
       "array([0, 1, 2, 3, 4])"
      ]
     },
     "execution_count": 17,
     "metadata": {},
     "output_type": "execute_result"
    }
   ],
   "source": [
    "np.array([0,1,2,3,4])"
   ]
  },
  {
   "cell_type": "code",
   "execution_count": null,
   "id": "e8355a36-e9ed-4452-9f5b-00c9a4180b03",
   "metadata": {},
   "outputs": [],
   "source": []
  }
 ],
 "metadata": {
  "kernelspec": {
   "display_name": "Python 3 (ipykernel)",
   "language": "python",
   "name": "python3"
  },
  "language_info": {
   "codemirror_mode": {
    "name": "ipython",
    "version": 3
   },
   "file_extension": ".py",
   "mimetype": "text/x-python",
   "name": "python",
   "nbconvert_exporter": "python",
   "pygments_lexer": "ipython3",
   "version": "3.11.7"
  }
 },
 "nbformat": 4,
 "nbformat_minor": 5
}
