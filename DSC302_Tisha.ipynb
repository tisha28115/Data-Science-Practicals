{
 "cells": [
  {
   "cell_type": "code",
   "execution_count": 6,
   "id": "bd69eb84-159c-4cfa-a38c-74c92352a0b5",
   "metadata": {},
   "outputs": [
    {
     "name": "stdout",
     "output_type": "stream",
     "text": [
      "7 to the power 4 is 2401\n"
     ]
    }
   ],
   "source": [
    "# 1.What is 7 to the power 4\n",
    "a=7\n",
    "b=4\n",
    "c=a**b\n",
    "print(\"7 to the power 4 is\",c)"
   ]
  },
  {
   "cell_type": "code",
   "execution_count": 3,
   "id": "528bc39c-4f72-47ff-8806-8b2c857d6d74",
   "metadata": {},
   "outputs": [
    {
     "name": "stdout",
     "output_type": "stream",
     "text": [
      "['Hi', 'there', 'Sam']\n"
     ]
    }
   ],
   "source": [
    "# 2.Split the strings\n",
    "s = \"Hi there Sam\"\n",
    "a = s.split()\n",
    "print(a)\n"
   ]
  },
  {
   "cell_type": "code",
   "execution_count": 4,
   "id": "f3d7fb4c-d40c-4350-bf29-885e2f13efcb",
   "metadata": {},
   "outputs": [
    {
     "name": "stdout",
     "output_type": "stream",
     "text": [
      "The diameter of Earth is 12742 kilometers\n"
     ]
    }
   ],
   "source": [
    "# 3.Given the variable\n",
    "planet = \"Earth\"\n",
    "diameter = 12742\n",
    "print(\"The diameter of {} is {} kilometers\".format(planet,diameter))"
   ]
  },
  {
   "cell_type": "code",
   "execution_count": 5,
   "id": "265ae387-ae04-4e20-b828-cdf45635a82e",
   "metadata": {},
   "outputs": [
    {
     "name": "stdout",
     "output_type": "stream",
     "text": [
      "hello\n",
      "200\n"
     ]
    }
   ],
   "source": [
    "# 4.Given this nested list, use indexing to grab the word \"hello\"\n",
    "lst = [1,2,[3,4],[5,[100,200,['hello']],23,11],1,7]\n",
    "w = lst[3][1][2][0]\n",
    "y = lst[3][1][1]\n",
    "print(w)\n",
    "print(y)\n"
   ]
  },
  {
   "cell_type": "code",
   "execution_count": 6,
   "id": "91f2ff1f-395f-4476-be7c-1b94439ac9b3",
   "metadata": {},
   "outputs": [
    {
     "name": "stdout",
     "output_type": "stream",
     "text": [
      "{'tricky': ['oh', 'man', 'inception', {'target': [1, 2, 3, 'hello']}]}\n",
      "{'target': [1, 2, 3, 'hello']}\n",
      "[1, 2, 3, 'hello']\n",
      "hello\n"
     ]
    }
   ],
   "source": [
    "# 5.Given this nested dictionary grab the word 'hello'\n",
    "\n",
    "d = {'k1':[1,2,3,{'tricky':['oh','man','inception',{'target':[1,2,3,'hello']}]}]}\n",
    "print(d['k1'][3])\n",
    "print(d['k1'][3]['tricky'][3])\n",
    "print(d['k1'][3]['tricky'][3]['target'])\n",
    "print(d['k1'][3]['tricky'][3]['target'][3])"
   ]
  },
  {
   "cell_type": "code",
   "execution_count": 7,
   "id": "94b2581a-aa56-4e41-a0ff-1c0cc2e5a1e2",
   "metadata": {},
   "outputs": [
    {
     "ename": "SyntaxError",
     "evalue": "invalid syntax (62874087.py, line 2)",
     "output_type": "error",
     "traceback": [
      "\u001b[1;36m  Cell \u001b[1;32mIn[7], line 2\u001b[1;36m\u001b[0m\n\u001b[1;33m    Tuple is immutable and enclosed with () brackets\u001b[0m\n\u001b[1;37m                                    ^\u001b[0m\n\u001b[1;31mSyntaxError\u001b[0m\u001b[1;31m:\u001b[0m invalid syntax\n"
     ]
    }
   ],
   "source": [
    "# 6.What is the main difference between List and Tuple\n",
    "Tuple is immutable and enclosed with () brackets\n",
    "List is mutuable and enclosed with [] brackets"
   ]
  },
  {
   "cell_type": "code",
   "execution_count": 8,
   "id": "4b836062-a83c-4182-8938-33ec71f7fb4e",
   "metadata": {},
   "outputs": [
    {
     "name": "stdout",
     "output_type": "stream",
     "text": [
      "Enter Email tiha28@gmail.com\n"
     ]
    },
    {
     "name": "stdout",
     "output_type": "stream",
     "text": [
      "gmail.com\n"
     ]
    }
   ],
   "source": [
    "# 7.Create a function that grabs email website domain from a string in the form:** user@domain.com\n",
    "#So for example,passing \"user@domain.com\" would retur:domain.com\n",
    "\n",
    "def domainGet(strDomain):\n",
    "    return strDomain.split('@')[1]\n",
    "\n",
    "email = input(\"Enter Email\")\n",
    "out = domainGet(email)\n",
    "print(out)"
   ]
  },
  {
   "cell_type": "code",
   "execution_count": 9,
   "id": "e703e173-1758-4f8e-8eac-2b9b002be8f7",
   "metadata": {},
   "outputs": [
    {
     "name": "stdout",
     "output_type": "stream",
     "text": [
      "True\n",
      "False\n",
      "False\n"
     ]
    }
   ],
   "source": [
    "# 8.Create a basic function that returns True if the word 'dog' is conatined in the input string.Don't worry about edge cases like a punctuation being attached to the word dog,but do account for capitalization:\n",
    "#findDog('Is there a dog here?')\n",
    "def findDog(input_str):\n",
    "    words = input_str.split()\n",
    "    for word in words:\n",
    "        cleaned_word = word.rstrip('!.?')\n",
    "        if cleaned_word == 'dog':\n",
    "            return True\n",
    "    return False\n",
    "\n",
    "print(findDog('IS there a dog?'))\n",
    "print(findDog('Where is the cat'))\n",
    "print(findDog('DOG is a loyal animal'))\n",
    "\n"
   ]
  },
  {
   "cell_type": "code",
   "execution_count": 30,
   "id": "1c705f1e-7997-4600-bb64-2b82f375ea75",
   "metadata": {},
   "outputs": [],
   "source": [
    "# 9.Use lambda expressions and the filter() function to filter out words from a list that don't start with the letter's'. for example:**\n",
    "# seq = ['soup','dog','salad','cat','great']  should be filtered down to: ['soup','salad]\n",
    "\n",
    "lst = ['soup','dog','salad','cat','great']\n"
   ]
  },
  {
   "cell_type": "code",
   "execution_count": 34,
   "id": "14e1a420-0e6d-4012-aebe-c3d70c4333db",
   "metadata": {},
   "outputs": [
    {
     "name": "stdout",
     "output_type": "stream",
     "text": [
      "no ticket\n",
      "small ticket\n",
      "big ticket\n",
      "no ticket\n",
      "small ticket\n",
      "big ticket\n"
     ]
    }
   ],
   "source": [
    "# 10.You are driving a little too fast, and a police officer stops you. Write a function to return one of 3 possible results:\"No ticket\",\"Small ticket\", or \"Big Ticket\".If your speed is 60 or less, the result is\"No Ticket\".If speed between 61 and 80 inclusive, the result is \"Small Ticket\".If speed is 81 or more, the result is \"Big Ticket\". Unless it is your birthday(encoded as a boolean value in the parameters of the function)--on your birthday,your speed can be 5 higher in all cases.\n",
    "def check_speed(speed, is_birthday):\n",
    "    if is_birthday:\n",
    "        speed_limits = {'no_ticket': 65, 'small_ticket': 85}\n",
    "    else:\n",
    "        speed_limits = {'no_ticket': 60, 'small_ticket': 80}\n",
    "    if speed <= speed_limits['no_ticket']:\n",
    "        return \"no ticket\"\n",
    "    elif speed <= speed_limits['small_ticket']:\n",
    "        return \"small ticket\"\n",
    "    else:\n",
    "        return \"big ticket\"\n",
    "print(check_speed(60, False))  \n",
    "print(check_speed(65, False))  \n",
    "print(check_speed(85, False))  \n",
    "print(check_speed(65, True))   \n",
    "print(check_speed(70, True)) \n",
    "print(check_speed(90, True))\n",
    "\n"
   ]
  },
  {
   "cell_type": "code",
   "execution_count": 1,
   "id": "34c5f819-19dd-4137-b3ef-7d1a3f3c56ad",
   "metadata": {},
   "outputs": [
    {
     "name": "stdout",
     "output_type": "stream",
     "text": [
      "Enter Roll No:  5\n",
      "Enter Student Name:  TISHA\n",
      "Enter Physics Marks (out of 100):  80\n",
      "Enter Chemistry Marks (out of 100):  75\n",
      "Enter Maths Marks (out of 100):  45\n"
     ]
    },
    {
     "name": "stdout",
     "output_type": "stream",
     "text": [
      "\n",
      "----- Student Report -----\n",
      "Roll No: 5\n",
      "Student Name: TISHA\n",
      "Physics Marks: 80.0\n",
      "Chemistry Marks: 75.0\n",
      "Maths Marks: 45.0\n",
      "Total Marks: 200.0\n",
      "Percentage: 66.67%\n",
      "STATUS: PASS\n",
      "GRADE: FIRST CLASS\n"
     ]
    }
   ],
   "source": [
    "# 11.Write a program to input roll no, student name, marks of physics,chemistry and maths out of 100.(0-100).Calculate total,percentage,calculus STATUS(pass,fail) if studnets scores above 40 in all the 3 subjects the STATUS should be pass otherwise fail.Claculate GRADE if STATUS is pass.Grade must be based on percentage value if pecentage is above 70, then grade must be DISTINCTION if percentage is above 60, then grade must be FIRST CLASS, if percentage is above 50, then grade must be SECOND CLASS if percentage is above 40, then grade must be PASS CLASS.\n",
    "\n",
    "def calculate_grade(percentage):\n",
    "    if percentage > 70:\n",
    "        return \"DISTINCTION\"\n",
    "    elif percentage > 60:\n",
    "        return \"FIRST CLASS\"\n",
    "    elif percentage > 50:\n",
    "        return \"SECOND CLASS\"\n",
    "    elif percentage > 40:\n",
    "        return \"PASS CLASS\"\n",
    "    else:\n",
    "        return \"FAIL\"\n",
    "\n",
    "def main():\n",
    "    roll_no = input(\"Enter Roll No: \")\n",
    "    student_name = input(\"Enter Student Name: \")\n",
    "    physics_marks = float(input(\"Enter Physics Marks (out of 100): \"))\n",
    "    chemistry_marks = float(input(\"Enter Chemistry Marks (out of 100): \"))\n",
    "    maths_marks = float(input(\"Enter Maths Marks (out of 100): \"))\n",
    "\n",
    "    total_marks = physics_marks + chemistry_marks + maths_marks\n",
    "    percentage = (total_marks / 300) * 100\n",
    "\n",
    "    if physics_marks >= 40 and chemistry_marks >= 40 and maths_marks >= 40:\n",
    "        status = \"PASS\"\n",
    "        grade = calculate_grade(percentage)\n",
    "    else:\n",
    "        status = \"FAIL\"\n",
    "        grade = \"NA\"\n",
    "\n",
    "    print(\"\\n----- Student Report -----\")\n",
    "    print(f\"Roll No: {roll_no}\")\n",
    "    print(f\"Student Name: {student_name}\")\n",
    "    print(f\"Physics Marks: {physics_marks}\")\n",
    "    print(f\"Chemistry Marks: {chemis5try_marks}\")\n",
    "    print(f\"Maths Marks: {maths_marks}\")\n",
    "    print(f\"Total Marks: {total_marks}\")\n",
    "    print(f\"Percentage: {percentage:.2f}%\")\n",
    "    print(f\"STATUS: {status}\")\n",
    "    if status == \"PASS\":\n",
    "        print(f\"GRADE: {grade}\")\n",
    "    else:\n",
    "        print(\"GRADE: NA\")\n",
    "\n",
    "if __name__ == \"__main__\":\n",
    "    main()\n"
   ]
  },
  {
   "cell_type": "code",
   "execution_count": 2,
   "id": "ef614de1-c7c1-4df7-90bc-226d5a6afff3",
   "metadata": {},
   "outputs": [
    {
     "name": "stdout",
     "output_type": "stream",
     "text": [
      "Enter Employee ID:  200011\n",
      "Enter Employee Name:  dIYA\n",
      "Enter Basic Salary:  50000\n",
      "Enter Years of Experience:  4\n"
     ]
    },
    {
     "name": "stdout",
     "output_type": "stream",
     "text": [
      "\n",
      "----- Employee Salary Details -----\n",
      "Employee ID: 200011\n",
      "Employee Name: dIYA\n",
      "Basic Salary: 50000.00\n",
      "HRA: 17500.00\n",
      "DA: 29000.00\n",
      "PF: 4750.00\n",
      "Bonus: 8000.00\n",
      "Net Salary: 99750.00\n"
     ]
    }
   ],
   "source": [
    "# 12.Write a Program in python to input empid, name, basic salary, no. of experience in yrs. Calculate hra(35% of basic), da (58% of basic) and pf (9.5% of basic). Also calculate bonus based on experience in years. If experience in years is >= 30, bonus must be 59% of basic, If experience in years is >=23, bonus must be 51% of basic, If experience in years is >=15, bonus must be 45% of basic, If experience in years is >=7, bonus must be 33% of basic,  If experience in years is <7, bonus must be 16% of basic Calculate netsalary as basic+da+hra-pf+bonus.\n",
    "def calculate_bonus(experience, basic_salary):\n",
    "    if experience >= 30:\n",
    "        return 0.59 * basic_salary\n",
    "    elif experience >= 23:\n",
    "        return 0.51 * basic_salary\n",
    "    elif experience >= 15:\n",
    "        return 0.45 * basic_salary\n",
    "    elif experience >= 7:\n",
    "        return 0.33 * basic_salary\n",
    "    else:\n",
    "        return 0.16 * basic_salary\n",
    "\n",
    "def main():\n",
    "    empid = input(\"Enter Employee ID: \")\n",
    "    name = input(\"Enter Employee Name: \")\n",
    "    basic_salary = float(input(\"Enter Basic Salary: \"))\n",
    "    experience = int(input(\"Enter Years of Experience: \"))\n",
    "\n",
    "    hra = 0.35 * basic_salary\n",
    "    da = 0.58 * basic_salary\n",
    "    pf = 0.095 * basic_salary\n",
    "\n",
    "    bonus = calculate_bonus(experience, basic_salary)\n",
    "    net_salary = basic_salary + da + hra - pf + bonus\n",
    "\n",
    "    print(\"\\n----- Employee Salary Details -----\")\n",
    "    print(f\"Employee ID: {empid}\")\n",
    "    print(f\"Employee Name: {name}\")\n",
    "    print(f\"Basic Salary: {basic_salary:.2f}\")\n",
    "    print(f\"HRA: {hra:.2f}\")\n",
    "    print(f\"DA: {da:.2f}\")\n",
    "    print(f\"PF: {pf:.2f}\")\n",
    "    print(f\"Bonus: {bonus:.2f}\")\n",
    "    print(f\"Net Salary: {net_salary:.2f}\")\n",
    "\n",
    "if __name__ == \"__main__\":\n",
    "    main()\n"
   ]
  },
  {
   "cell_type": "code",
   "execution_count": null,
   "id": "4cbd41cd-323a-451a-81ec-92076a667351",
   "metadata": {},
   "outputs": [],
   "source": []
  }
 ],
 "metadata": {
  "kernelspec": {
   "display_name": "Python 3 (ipykernel)",
   "language": "python",
   "name": "python3"
  },
  "language_info": {
   "codemirror_mode": {
    "name": "ipython",
    "version": 3
   },
   "file_extension": ".py",
   "mimetype": "text/x-python",
   "name": "python",
   "nbconvert_exporter": "python",
   "pygments_lexer": "ipython3",
   "version": "3.11.7"
  }
 },
 "nbformat": 4,
 "nbformat_minor": 5
}
